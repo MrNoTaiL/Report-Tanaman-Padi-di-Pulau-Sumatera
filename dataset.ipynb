{
 "cells": [
  {
   "attachments": {},
   "cell_type": "markdown",
   "metadata": {},
   "source": [
    "## Preparation data"
   ]
  },
  {
   "cell_type": "code",
   "execution_count": 23,
   "metadata": {},
   "outputs": [],
   "source": [
    "import pandas as pd\n",
    "import numpy as np"
   ]
  },
  {
   "cell_type": "code",
   "execution_count": 2,
   "metadata": {},
   "outputs": [
    {
     "data": {
      "text/html": [
       "<div>\n",
       "<style scoped>\n",
       "    .dataframe tbody tr th:only-of-type {\n",
       "        vertical-align: middle;\n",
       "    }\n",
       "\n",
       "    .dataframe tbody tr th {\n",
       "        vertical-align: top;\n",
       "    }\n",
       "\n",
       "    .dataframe thead th {\n",
       "        text-align: right;\n",
       "    }\n",
       "</style>\n",
       "<table border=\"1\" class=\"dataframe\">\n",
       "  <thead>\n",
       "    <tr style=\"text-align: right;\">\n",
       "      <th></th>\n",
       "      <th>Provinsi</th>\n",
       "      <th>Tahun</th>\n",
       "      <th>Produksi</th>\n",
       "      <th>Luas Panen</th>\n",
       "      <th>Curah hujan</th>\n",
       "      <th>Kelembapan</th>\n",
       "      <th>Suhu rata-rata</th>\n",
       "    </tr>\n",
       "  </thead>\n",
       "  <tbody>\n",
       "    <tr>\n",
       "      <th>0</th>\n",
       "      <td>Aceh</td>\n",
       "      <td>1993</td>\n",
       "      <td>1329536.0</td>\n",
       "      <td>323589.0</td>\n",
       "      <td>1627.0</td>\n",
       "      <td>82.00</td>\n",
       "      <td>26.06</td>\n",
       "    </tr>\n",
       "    <tr>\n",
       "      <th>1</th>\n",
       "      <td>Aceh</td>\n",
       "      <td>1994</td>\n",
       "      <td>1299699.0</td>\n",
       "      <td>329041.0</td>\n",
       "      <td>1521.0</td>\n",
       "      <td>82.12</td>\n",
       "      <td>26.92</td>\n",
       "    </tr>\n",
       "    <tr>\n",
       "      <th>2</th>\n",
       "      <td>Aceh</td>\n",
       "      <td>1995</td>\n",
       "      <td>1382905.0</td>\n",
       "      <td>339253.0</td>\n",
       "      <td>1476.0</td>\n",
       "      <td>82.72</td>\n",
       "      <td>26.27</td>\n",
       "    </tr>\n",
       "    <tr>\n",
       "      <th>3</th>\n",
       "      <td>Aceh</td>\n",
       "      <td>1996</td>\n",
       "      <td>1419128.0</td>\n",
       "      <td>348223.0</td>\n",
       "      <td>1557.0</td>\n",
       "      <td>83.00</td>\n",
       "      <td>26.08</td>\n",
       "    </tr>\n",
       "    <tr>\n",
       "      <th>4</th>\n",
       "      <td>Aceh</td>\n",
       "      <td>1997</td>\n",
       "      <td>1368074.0</td>\n",
       "      <td>337561.0</td>\n",
       "      <td>1339.0</td>\n",
       "      <td>82.46</td>\n",
       "      <td>26.31</td>\n",
       "    </tr>\n",
       "  </tbody>\n",
       "</table>\n",
       "</div>"
      ],
      "text/plain": [
       "  Provinsi  Tahun   Produksi  Luas Panen  Curah hujan  Kelembapan  \\\n",
       "0     Aceh   1993  1329536.0    323589.0       1627.0       82.00   \n",
       "1     Aceh   1994  1299699.0    329041.0       1521.0       82.12   \n",
       "2     Aceh   1995  1382905.0    339253.0       1476.0       82.72   \n",
       "3     Aceh   1996  1419128.0    348223.0       1557.0       83.00   \n",
       "4     Aceh   1997  1368074.0    337561.0       1339.0       82.46   \n",
       "\n",
       "   Suhu rata-rata  \n",
       "0           26.06  \n",
       "1           26.92  \n",
       "2           26.27  \n",
       "3           26.08  \n",
       "4           26.31  "
      ]
     },
     "execution_count": 2,
     "metadata": {},
     "output_type": "execute_result"
    }
   ],
   "source": [
    "df = pd.read_csv('Data_Tanaman_Padi_Sumatera_version_1.csv')\n",
    "df.head()"
   ]
  },
  {
   "cell_type": "code",
   "execution_count": null,
   "metadata": {},
   "outputs": [],
   "source": [
    "#Luas panen merupakan perhitungan secara objektif lahan padi yang dipanen"
   ]
  },
  {
   "attachments": {},
   "cell_type": "markdown",
   "metadata": {},
   "source": [
    "## Data Cleansing"
   ]
  },
  {
   "cell_type": "code",
   "execution_count": 3,
   "metadata": {},
   "outputs": [
    {
     "name": "stdout",
     "output_type": "stream",
     "text": [
      "<class 'pandas.core.frame.DataFrame'>\n",
      "RangeIndex: 224 entries, 0 to 223\n",
      "Data columns (total 7 columns):\n",
      " #   Column          Non-Null Count  Dtype  \n",
      "---  ------          --------------  -----  \n",
      " 0   Provinsi        224 non-null    object \n",
      " 1   Tahun           224 non-null    int64  \n",
      " 2   Produksi        224 non-null    float64\n",
      " 3   Luas Panen      224 non-null    float64\n",
      " 4   Curah hujan     224 non-null    float64\n",
      " 5   Kelembapan      224 non-null    float64\n",
      " 6   Suhu rata-rata  224 non-null    float64\n",
      "dtypes: float64(5), int64(1), object(1)\n",
      "memory usage: 12.4+ KB\n"
     ]
    }
   ],
   "source": [
    "df.info()"
   ]
  },
  {
   "attachments": {},
   "cell_type": "markdown",
   "metadata": {},
   "source": [
    "<p> melihat jumlah missing value </p>"
   ]
  },
  {
   "cell_type": "code",
   "execution_count": 4,
   "metadata": {},
   "outputs": [
    {
     "data": {
      "text/plain": [
       "Provinsi          0\n",
       "Tahun             0\n",
       "Produksi          0\n",
       "Luas Panen        0\n",
       "Curah hujan       0\n",
       "Kelembapan        0\n",
       "Suhu rata-rata    0\n",
       "dtype: int64"
      ]
     },
     "execution_count": 4,
     "metadata": {},
     "output_type": "execute_result"
    }
   ],
   "source": [
    "df.isnull().sum()"
   ]
  },
  {
   "cell_type": "code",
   "execution_count": 3,
   "metadata": {},
   "outputs": [],
   "source": [
    "new_names={\n",
    "    'Luas Panen':'Luas_Panen',\n",
    "    'Curah hujan':'Curah_Hujan',\n",
    "    'Suhu rata-rata':'Suhu_Rata2',\n",
    "}"
   ]
  },
  {
   "cell_type": "code",
   "execution_count": 4,
   "metadata": {},
   "outputs": [],
   "source": [
    "df.rename(columns=new_names, inplace=True)"
   ]
  },
  {
   "cell_type": "code",
   "execution_count": 5,
   "metadata": {},
   "outputs": [
    {
     "data": {
      "text/html": [
       "<div>\n",
       "<style scoped>\n",
       "    .dataframe tbody tr th:only-of-type {\n",
       "        vertical-align: middle;\n",
       "    }\n",
       "\n",
       "    .dataframe tbody tr th {\n",
       "        vertical-align: top;\n",
       "    }\n",
       "\n",
       "    .dataframe thead th {\n",
       "        text-align: right;\n",
       "    }\n",
       "</style>\n",
       "<table border=\"1\" class=\"dataframe\">\n",
       "  <thead>\n",
       "    <tr style=\"text-align: right;\">\n",
       "      <th></th>\n",
       "      <th>Tahun</th>\n",
       "      <th>Produksi</th>\n",
       "      <th>Luas_Panen</th>\n",
       "      <th>Curah_Hujan</th>\n",
       "      <th>Kelembapan</th>\n",
       "      <th>Suhu_Rata2</th>\n",
       "    </tr>\n",
       "  </thead>\n",
       "  <tbody>\n",
       "    <tr>\n",
       "      <th>count</th>\n",
       "      <td>224.000000</td>\n",
       "      <td>2.240000e+02</td>\n",
       "      <td>224.000000</td>\n",
       "      <td>224.000000</td>\n",
       "      <td>224.000000</td>\n",
       "      <td>224.000000</td>\n",
       "    </tr>\n",
       "    <tr>\n",
       "      <th>mean</th>\n",
       "      <td>2006.500000</td>\n",
       "      <td>1.679701e+06</td>\n",
       "      <td>374349.966920</td>\n",
       "      <td>2452.490759</td>\n",
       "      <td>80.948705</td>\n",
       "      <td>26.801964</td>\n",
       "    </tr>\n",
       "    <tr>\n",
       "      <th>std</th>\n",
       "      <td>8.095838</td>\n",
       "      <td>1.161387e+06</td>\n",
       "      <td>232751.161987</td>\n",
       "      <td>1031.972625</td>\n",
       "      <td>4.878680</td>\n",
       "      <td>1.197041</td>\n",
       "    </tr>\n",
       "    <tr>\n",
       "      <th>min</th>\n",
       "      <td>1993.000000</td>\n",
       "      <td>4.293800e+04</td>\n",
       "      <td>63142.040000</td>\n",
       "      <td>222.500000</td>\n",
       "      <td>54.200000</td>\n",
       "      <td>22.190000</td>\n",
       "    </tr>\n",
       "    <tr>\n",
       "      <th>25%</th>\n",
       "      <td>1999.750000</td>\n",
       "      <td>5.488570e+05</td>\n",
       "      <td>146919.500000</td>\n",
       "      <td>1703.525000</td>\n",
       "      <td>78.975000</td>\n",
       "      <td>26.177500</td>\n",
       "    </tr>\n",
       "    <tr>\n",
       "      <th>50%</th>\n",
       "      <td>2006.500000</td>\n",
       "      <td>1.667773e+06</td>\n",
       "      <td>373551.500000</td>\n",
       "      <td>2315.700000</td>\n",
       "      <td>82.375000</td>\n",
       "      <td>26.730000</td>\n",
       "    </tr>\n",
       "    <tr>\n",
       "      <th>75%</th>\n",
       "      <td>2013.250000</td>\n",
       "      <td>2.436851e+06</td>\n",
       "      <td>514570.250000</td>\n",
       "      <td>3039.700000</td>\n",
       "      <td>84.000000</td>\n",
       "      <td>27.200000</td>\n",
       "    </tr>\n",
       "    <tr>\n",
       "      <th>max</th>\n",
       "      <td>2020.000000</td>\n",
       "      <td>4.881089e+06</td>\n",
       "      <td>872737.000000</td>\n",
       "      <td>5522.000000</td>\n",
       "      <td>90.600000</td>\n",
       "      <td>29.850000</td>\n",
       "    </tr>\n",
       "  </tbody>\n",
       "</table>\n",
       "</div>"
      ],
      "text/plain": [
       "             Tahun      Produksi     Luas_Panen  Curah_Hujan  Kelembapan  \\\n",
       "count   224.000000  2.240000e+02     224.000000   224.000000  224.000000   \n",
       "mean   2006.500000  1.679701e+06  374349.966920  2452.490759   80.948705   \n",
       "std       8.095838  1.161387e+06  232751.161987  1031.972625    4.878680   \n",
       "min    1993.000000  4.293800e+04   63142.040000   222.500000   54.200000   \n",
       "25%    1999.750000  5.488570e+05  146919.500000  1703.525000   78.975000   \n",
       "50%    2006.500000  1.667773e+06  373551.500000  2315.700000   82.375000   \n",
       "75%    2013.250000  2.436851e+06  514570.250000  3039.700000   84.000000   \n",
       "max    2020.000000  4.881089e+06  872737.000000  5522.000000   90.600000   \n",
       "\n",
       "       Suhu_Rata2  \n",
       "count  224.000000  \n",
       "mean    26.801964  \n",
       "std      1.197041  \n",
       "min     22.190000  \n",
       "25%     26.177500  \n",
       "50%     26.730000  \n",
       "75%     27.200000  \n",
       "max     29.850000  "
      ]
     },
     "execution_count": 5,
     "metadata": {},
     "output_type": "execute_result"
    }
   ],
   "source": [
    "df.describe()"
   ]
  },
  {
   "cell_type": "code",
   "execution_count": 8,
   "metadata": {},
   "outputs": [
    {
     "data": {
      "text/html": [
       "<div>\n",
       "<style scoped>\n",
       "    .dataframe tbody tr th:only-of-type {\n",
       "        vertical-align: middle;\n",
       "    }\n",
       "\n",
       "    .dataframe tbody tr th {\n",
       "        vertical-align: top;\n",
       "    }\n",
       "\n",
       "    .dataframe thead th {\n",
       "        text-align: right;\n",
       "    }\n",
       "</style>\n",
       "<table border=\"1\" class=\"dataframe\">\n",
       "  <thead>\n",
       "    <tr style=\"text-align: right;\">\n",
       "      <th></th>\n",
       "      <th>Provinsi</th>\n",
       "      <th>Tahun</th>\n",
       "      <th>Produksi</th>\n",
       "      <th>Luas_Panen</th>\n",
       "      <th>Curah_Hujan</th>\n",
       "      <th>Kelembapan</th>\n",
       "      <th>Suhu_Rata2</th>\n",
       "    </tr>\n",
       "  </thead>\n",
       "  <tbody>\n",
       "    <tr>\n",
       "      <th>0</th>\n",
       "      <td>Aceh</td>\n",
       "      <td>1993</td>\n",
       "      <td>1329536.0</td>\n",
       "      <td>323589.0</td>\n",
       "      <td>1627.0</td>\n",
       "      <td>82.00</td>\n",
       "      <td>26.06</td>\n",
       "    </tr>\n",
       "    <tr>\n",
       "      <th>1</th>\n",
       "      <td>Aceh</td>\n",
       "      <td>1994</td>\n",
       "      <td>1299699.0</td>\n",
       "      <td>329041.0</td>\n",
       "      <td>1521.0</td>\n",
       "      <td>82.12</td>\n",
       "      <td>26.92</td>\n",
       "    </tr>\n",
       "    <tr>\n",
       "      <th>2</th>\n",
       "      <td>Aceh</td>\n",
       "      <td>1995</td>\n",
       "      <td>1382905.0</td>\n",
       "      <td>339253.0</td>\n",
       "      <td>1476.0</td>\n",
       "      <td>82.72</td>\n",
       "      <td>26.27</td>\n",
       "    </tr>\n",
       "    <tr>\n",
       "      <th>3</th>\n",
       "      <td>Aceh</td>\n",
       "      <td>1996</td>\n",
       "      <td>1419128.0</td>\n",
       "      <td>348223.0</td>\n",
       "      <td>1557.0</td>\n",
       "      <td>83.00</td>\n",
       "      <td>26.08</td>\n",
       "    </tr>\n",
       "    <tr>\n",
       "      <th>4</th>\n",
       "      <td>Aceh</td>\n",
       "      <td>1997</td>\n",
       "      <td>1368074.0</td>\n",
       "      <td>337561.0</td>\n",
       "      <td>1339.0</td>\n",
       "      <td>82.46</td>\n",
       "      <td>26.31</td>\n",
       "    </tr>\n",
       "  </tbody>\n",
       "</table>\n",
       "</div>"
      ],
      "text/plain": [
       "  Provinsi  Tahun   Produksi  Luas_Panen  Curah_Hujan  Kelembapan  Suhu_Rata2\n",
       "0     Aceh   1993  1329536.0    323589.0       1627.0       82.00       26.06\n",
       "1     Aceh   1994  1299699.0    329041.0       1521.0       82.12       26.92\n",
       "2     Aceh   1995  1382905.0    339253.0       1476.0       82.72       26.27\n",
       "3     Aceh   1996  1419128.0    348223.0       1557.0       83.00       26.08\n",
       "4     Aceh   1997  1368074.0    337561.0       1339.0       82.46       26.31"
      ]
     },
     "execution_count": 8,
     "metadata": {},
     "output_type": "execute_result"
    }
   ],
   "source": [
    "df.head()"
   ]
  },
  {
   "attachments": {},
   "cell_type": "markdown",
   "metadata": {},
   "source": [
    "<p> Melihat outlier </p>"
   ]
  },
  {
   "cell_type": "code",
   "execution_count": 10,
   "metadata": {},
   "outputs": [],
   "source": [
    "import matplotlib.pyplot as plt\n",
    "import sklearn"
   ]
  },
  {
   "cell_type": "code",
   "execution_count": 10,
   "metadata": {},
   "outputs": [
    {
     "data": {
      "text/html": [
       "<div>\n",
       "<style scoped>\n",
       "    .dataframe tbody tr th:only-of-type {\n",
       "        vertical-align: middle;\n",
       "    }\n",
       "\n",
       "    .dataframe tbody tr th {\n",
       "        vertical-align: top;\n",
       "    }\n",
       "\n",
       "    .dataframe thead th {\n",
       "        text-align: right;\n",
       "    }\n",
       "</style>\n",
       "<table border=\"1\" class=\"dataframe\">\n",
       "  <thead>\n",
       "    <tr style=\"text-align: right;\">\n",
       "      <th></th>\n",
       "      <th>Tahun</th>\n",
       "      <th>Produksi</th>\n",
       "      <th>Luas_Panen</th>\n",
       "      <th>Curah_Hujan</th>\n",
       "      <th>Kelembapan</th>\n",
       "      <th>Suhu_Rata2</th>\n",
       "    </tr>\n",
       "  </thead>\n",
       "  <tbody>\n",
       "    <tr>\n",
       "      <th>count</th>\n",
       "      <td>224.000000</td>\n",
       "      <td>2.240000e+02</td>\n",
       "      <td>224.000000</td>\n",
       "      <td>224.000000</td>\n",
       "      <td>224.000000</td>\n",
       "      <td>224.000000</td>\n",
       "    </tr>\n",
       "    <tr>\n",
       "      <th>mean</th>\n",
       "      <td>2006.500000</td>\n",
       "      <td>1.679701e+06</td>\n",
       "      <td>374349.966920</td>\n",
       "      <td>2452.490759</td>\n",
       "      <td>80.948705</td>\n",
       "      <td>26.801964</td>\n",
       "    </tr>\n",
       "    <tr>\n",
       "      <th>std</th>\n",
       "      <td>8.095838</td>\n",
       "      <td>1.161387e+06</td>\n",
       "      <td>232751.161987</td>\n",
       "      <td>1031.972625</td>\n",
       "      <td>4.878680</td>\n",
       "      <td>1.197041</td>\n",
       "    </tr>\n",
       "    <tr>\n",
       "      <th>min</th>\n",
       "      <td>1993.000000</td>\n",
       "      <td>4.293800e+04</td>\n",
       "      <td>63142.040000</td>\n",
       "      <td>222.500000</td>\n",
       "      <td>54.200000</td>\n",
       "      <td>22.190000</td>\n",
       "    </tr>\n",
       "    <tr>\n",
       "      <th>25%</th>\n",
       "      <td>1999.750000</td>\n",
       "      <td>5.488570e+05</td>\n",
       "      <td>146919.500000</td>\n",
       "      <td>1703.525000</td>\n",
       "      <td>78.975000</td>\n",
       "      <td>26.177500</td>\n",
       "    </tr>\n",
       "    <tr>\n",
       "      <th>50%</th>\n",
       "      <td>2006.500000</td>\n",
       "      <td>1.667773e+06</td>\n",
       "      <td>373551.500000</td>\n",
       "      <td>2315.700000</td>\n",
       "      <td>82.375000</td>\n",
       "      <td>26.730000</td>\n",
       "    </tr>\n",
       "    <tr>\n",
       "      <th>75%</th>\n",
       "      <td>2013.250000</td>\n",
       "      <td>2.436851e+06</td>\n",
       "      <td>514570.250000</td>\n",
       "      <td>3039.700000</td>\n",
       "      <td>84.000000</td>\n",
       "      <td>27.200000</td>\n",
       "    </tr>\n",
       "    <tr>\n",
       "      <th>max</th>\n",
       "      <td>2020.000000</td>\n",
       "      <td>4.881089e+06</td>\n",
       "      <td>872737.000000</td>\n",
       "      <td>5522.000000</td>\n",
       "      <td>90.600000</td>\n",
       "      <td>29.850000</td>\n",
       "    </tr>\n",
       "  </tbody>\n",
       "</table>\n",
       "</div>"
      ],
      "text/plain": [
       "             Tahun      Produksi     Luas_Panen  Curah_Hujan  Kelembapan  \\\n",
       "count   224.000000  2.240000e+02     224.000000   224.000000  224.000000   \n",
       "mean   2006.500000  1.679701e+06  374349.966920  2452.490759   80.948705   \n",
       "std       8.095838  1.161387e+06  232751.161987  1031.972625    4.878680   \n",
       "min    1993.000000  4.293800e+04   63142.040000   222.500000   54.200000   \n",
       "25%    1999.750000  5.488570e+05  146919.500000  1703.525000   78.975000   \n",
       "50%    2006.500000  1.667773e+06  373551.500000  2315.700000   82.375000   \n",
       "75%    2013.250000  2.436851e+06  514570.250000  3039.700000   84.000000   \n",
       "max    2020.000000  4.881089e+06  872737.000000  5522.000000   90.600000   \n",
       "\n",
       "       Suhu_Rata2  \n",
       "count  224.000000  \n",
       "mean    26.801964  \n",
       "std      1.197041  \n",
       "min     22.190000  \n",
       "25%     26.177500  \n",
       "50%     26.730000  \n",
       "75%     27.200000  \n",
       "max     29.850000  "
      ]
     },
     "execution_count": 10,
     "metadata": {},
     "output_type": "execute_result"
    }
   ],
   "source": [
    "df.describe()"
   ]
  },
  {
   "cell_type": "code",
   "execution_count": null,
   "metadata": {},
   "outputs": [],
   "source": [
    "#dapat dilihat di nilai min dan max, luas panen diduga memiliki nilai outlier"
   ]
  },
  {
   "cell_type": "code",
   "execution_count": 64,
   "metadata": {},
   "outputs": [
    {
     "data": {
      "text/plain": [
       "array([[<AxesSubplot:title={'center':'Aceh'}>,\n",
       "        <AxesSubplot:title={'center':'Bengkulu'}>,\n",
       "        <AxesSubplot:title={'center':'Jambi'}>],\n",
       "       [<AxesSubplot:title={'center':'Lampung'}>,\n",
       "        <AxesSubplot:title={'center':'Riau'}>,\n",
       "        <AxesSubplot:title={'center':'Sumatera Barat'}>],\n",
       "       [<AxesSubplot:title={'center':'Sumatera Selatan'}>,\n",
       "        <AxesSubplot:title={'center':'Sumatera Utara'}>, <AxesSubplot:>]],\n",
       "      dtype=object)"
      ]
     },
     "execution_count": 64,
     "metadata": {},
     "output_type": "execute_result"
    },
    {
     "data": {
      "text/plain": [
       "<Figure size 432x288 with 0 Axes>"
      ]
     },
     "metadata": {},
     "output_type": "display_data"
    },
    {
     "data": {
      "image/png": "[encoded data removed]",
      "text/plain": [
       "<Figure size 1440x648 with 9 Axes>"
      ]
     },
     "metadata": {
      "needs_background": "light"
     },
     "output_type": "display_data"
    }
   ],
   "source": [
    "plt.figure()\n",
    "df['Luas_Panen'].hist(by=df['Provinsi'], figsize=(20,9), edgecolor='black')"
   ]
  },
  {
   "cell_type": "code",
   "execution_count": 65,
   "metadata": {},
   "outputs": [
    {
     "data": {
      "text/plain": [
       "<AxesSubplot:title={'center':'Luas_Panen'}, xlabel='Provinsi'>"
      ]
     },
     "execution_count": 65,
     "metadata": {},
     "output_type": "execute_result"
    },
    {
     "data": {
      "text/plain": [
       "<Figure size 720x432 with 0 Axes>"
      ]
     },
     "metadata": {},
     "output_type": "display_data"
    },
    {
     "data": {
      "image/png": "[encoded data removed]",
      "text/plain": [
       "<Figure size 432x288 with 1 Axes>"
      ]
     },
     "metadata": {
      "needs_background": "light"
     },
     "output_type": "display_data"
    }
   ],
   "source": [
    "plt.figure(figsize=(10,6))\n",
    "df.boxplot(column=['Luas_Panen'], by='Provinsi')"
   ]
  },
  {
   "cell_type": "code",
   "execution_count": null,
   "metadata": {},
   "outputs": [],
   "source": [
    "#setelah di uji menggunakan histogram dan boxplot, hasilnya variabel Luas Panen terdeteksi adanya nilai outlier\n",
    "#nilai outlier pada variabel Luas Panen bisa terjadi karena luas Panen padi disetiap daerah tidak sama dan berbeda karena melihat keadaan geografis antar provinsi di pulau sumatera"
   ]
  },
  {
   "cell_type": "code",
   "execution_count": null,
   "metadata": {},
   "outputs": [],
   "source": [
    "#memperbaiki nilai outlier"
   ]
  },
  {
   "cell_type": "code",
   "execution_count": 6,
   "metadata": {},
   "outputs": [],
   "source": [
    "def impute_outliers_IQR(df):\n",
    "\n",
    "    q1=df.quantile(0.25)\n",
    "    q3=df.quantile(0.75)\n",
    "\n",
    "    IQR=q3-q1\n",
    "\n",
    "    upper = df[~(df>(q3+1.5*IQR))].max()\n",
    "    lower = df[~(df<(q3+1.5*IQR))].min()\n",
    "    \n",
    "    df=np.where(df>upper,\n",
    "        df.median(),\n",
    "        np.where(\n",
    "            df <lower,\n",
    "            df.median(),\n",
    "            df\n",
    "        )\n",
    "    )\n",
    "    return df"
   ]
  },
  {
   "cell_type": "code",
   "execution_count": 7,
   "metadata": {},
   "outputs": [],
   "source": [
    "#setelah di definisikan diatas, maka sekarang membuat kolom baru\n",
    "df['Luas_Panen2'] = impute_outliers_IQR(df['Luas_Panen'])"
   ]
  },
  {
   "cell_type": "code",
   "execution_count": 8,
   "metadata": {},
   "outputs": [
    {
     "data": {
      "text/plain": [
       "count       224.000000\n",
       "mean     374349.966920\n",
       "std      232751.161987\n",
       "min       63142.040000\n",
       "25%      146919.500000\n",
       "50%      373551.500000\n",
       "75%      514570.250000\n",
       "max      872737.000000\n",
       "Name: Luas_Panen2, dtype: float64"
      ]
     },
     "execution_count": 8,
     "metadata": {},
     "output_type": "execute_result"
    }
   ],
   "source": [
    "df['Luas_Panen2'].describe()"
   ]
  },
  {
   "cell_type": "code",
   "execution_count": 11,
   "metadata": {},
   "outputs": [
    {
     "data": {
      "text/plain": [
       "<AxesSubplot:>"
      ]
     },
     "execution_count": 11,
     "metadata": {},
     "output_type": "execute_result"
    },
    {
     "data": {
      "image/png": "[encoded data removed]",
      "text/plain": [
       "<Figure size 720x432 with 1 Axes>"
      ]
     },
     "metadata": {
      "needs_background": "light"
     },
     "output_type": "display_data"
    }
   ],
   "source": [
    "plt.figure(figsize=(10,6))\n",
    "df['Luas_Panen2'].hist(bins=10)"
   ]
  },
  {
   "attachments": {},
   "cell_type": "markdown",
   "metadata": {},
   "source": [
    "<p> Uji Normalitas Data </p>"
   ]
  },
  {
   "cell_type": "code",
   "execution_count": 59,
   "metadata": {},
   "outputs": [],
   "source": [
    "import scipy\n",
    "from scipy.stats import kstest, shapiro"
   ]
  },
  {
   "cell_type": "code",
   "execution_count": 63,
   "metadata": {},
   "outputs": [
    {
     "name": "stdout",
     "output_type": "stream",
     "text": [
      "KstestResult(statistic=1.0, pvalue=0.0)\n",
      "ShapiroResult(statistic=0.9192113876342773, pvalue=1.0551849394246915e-09)\n"
     ]
    }
   ],
   "source": [
    "ksdata = kstest(df['Luas_Panen2'],'norm')\n",
    "print(ksdata)\n",
    "swdata = shapiro(df['Luas_Panen2'])\n",
    "print(swdata)"
   ]
  },
  {
   "attachments": {},
   "cell_type": "markdown",
   "metadata": {},
   "source": [
    "## Exploratory Data"
   ]
  },
  {
   "cell_type": "code",
   "execution_count": 29,
   "metadata": {},
   "outputs": [
    {
     "data": {
      "text/html": [
       "<div>\n",
       "<style scoped>\n",
       "    .dataframe tbody tr th:only-of-type {\n",
       "        vertical-align: middle;\n",
       "    }\n",
       "\n",
       "    .dataframe tbody tr th {\n",
       "        vertical-align: top;\n",
       "    }\n",
       "\n",
       "    .dataframe thead th {\n",
       "        text-align: right;\n",
       "    }\n",
       "</style>\n",
       "<table border=\"1\" class=\"dataframe\">\n",
       "  <thead>\n",
       "    <tr style=\"text-align: right;\">\n",
       "      <th></th>\n",
       "      <th>Tahun</th>\n",
       "      <th>Produksi</th>\n",
       "      <th>Luas_Panen</th>\n",
       "      <th>Curah_Hujan</th>\n",
       "      <th>Kelembapan</th>\n",
       "      <th>Suhu_Rata2</th>\n",
       "      <th>Luas_Panen2</th>\n",
       "    </tr>\n",
       "  </thead>\n",
       "  <tbody>\n",
       "    <tr>\n",
       "      <th>Tahun</th>\n",
       "      <td>1.000000</td>\n",
       "      <td>0.182527</td>\n",
       "      <td>-0.045951</td>\n",
       "      <td>-0.047645</td>\n",
       "      <td>-0.033474</td>\n",
       "      <td>0.004923</td>\n",
       "      <td>-0.045951</td>\n",
       "    </tr>\n",
       "    <tr>\n",
       "      <th>Produksi</th>\n",
       "      <td>0.182527</td>\n",
       "      <td>1.000000</td>\n",
       "      <td>0.905622</td>\n",
       "      <td>-0.042129</td>\n",
       "      <td>-0.052316</td>\n",
       "      <td>0.041160</td>\n",
       "      <td>0.905622</td>\n",
       "    </tr>\n",
       "    <tr>\n",
       "      <th>Luas_Panen</th>\n",
       "      <td>-0.045951</td>\n",
       "      <td>0.905622</td>\n",
       "      <td>1.000000</td>\n",
       "      <td>-0.092975</td>\n",
       "      <td>-0.061121</td>\n",
       "      <td>0.115726</td>\n",
       "      <td>1.000000</td>\n",
       "    </tr>\n",
       "    <tr>\n",
       "      <th>Curah_Hujan</th>\n",
       "      <td>-0.047645</td>\n",
       "      <td>-0.042129</td>\n",
       "      <td>-0.092975</td>\n",
       "      <td>1.000000</td>\n",
       "      <td>0.056466</td>\n",
       "      <td>-0.228699</td>\n",
       "      <td>-0.092975</td>\n",
       "    </tr>\n",
       "    <tr>\n",
       "      <th>Kelembapan</th>\n",
       "      <td>-0.033474</td>\n",
       "      <td>-0.052316</td>\n",
       "      <td>-0.061121</td>\n",
       "      <td>0.056466</td>\n",
       "      <td>1.000000</td>\n",
       "      <td>-0.407799</td>\n",
       "      <td>-0.061121</td>\n",
       "    </tr>\n",
       "    <tr>\n",
       "      <th>Suhu_Rata2</th>\n",
       "      <td>0.004923</td>\n",
       "      <td>0.041160</td>\n",
       "      <td>0.115726</td>\n",
       "      <td>-0.228699</td>\n",
       "      <td>-0.407799</td>\n",
       "      <td>1.000000</td>\n",
       "      <td>0.115726</td>\n",
       "    </tr>\n",
       "    <tr>\n",
       "      <th>Luas_Panen2</th>\n",
       "      <td>-0.045951</td>\n",
       "      <td>0.905622</td>\n",
       "      <td>1.000000</td>\n",
       "      <td>-0.092975</td>\n",
       "      <td>-0.061121</td>\n",
       "      <td>0.115726</td>\n",
       "      <td>1.000000</td>\n",
       "    </tr>\n",
       "  </tbody>\n",
       "</table>\n",
       "</div>"
      ],
      "text/plain": [
       "                Tahun  Produksi  Luas_Panen  Curah_Hujan  Kelembapan  \\\n",
       "Tahun        1.000000  0.182527   -0.045951    -0.047645   -0.033474   \n",
       "Produksi     0.182527  1.000000    0.905622    -0.042129   -0.052316   \n",
       "Luas_Panen  -0.045951  0.905622    1.000000    -0.092975   -0.061121   \n",
       "Curah_Hujan -0.047645 -0.042129   -0.092975     1.000000    0.056466   \n",
       "Kelembapan  -0.033474 -0.052316   -0.061121     0.056466    1.000000   \n",
       "Suhu_Rata2   0.004923  0.041160    0.115726    -0.228699   -0.407799   \n",
       "Luas_Panen2 -0.045951  0.905622    1.000000    -0.092975   -0.061121   \n",
       "\n",
       "             Suhu_Rata2  Luas_Panen2  \n",
       "Tahun          0.004923    -0.045951  \n",
       "Produksi       0.041160     0.905622  \n",
       "Luas_Panen     0.115726     1.000000  \n",
       "Curah_Hujan   -0.228699    -0.092975  \n",
       "Kelembapan    -0.407799    -0.061121  \n",
       "Suhu_Rata2     1.000000     0.115726  \n",
       "Luas_Panen2    0.115726     1.000000  "
      ]
     },
     "execution_count": 29,
     "metadata": {},
     "output_type": "execute_result"
    }
   ],
   "source": [
    "#melihat korelasi antar variabel\n",
    "df.corr()"
   ]
  },
  {
   "cell_type": "code",
   "execution_count": null,
   "metadata": {},
   "outputs": [],
   "source": [
    "#kesimpulan dari korelasi diatas\n",
    "#1. variabel produksi memiliki korelasi dengan luas panen\n",
    "#2. variabel curah hujan memiliki korelasi dengan kelembapan"
   ]
  },
  {
   "cell_type": "code",
   "execution_count": 18,
   "metadata": {},
   "outputs": [],
   "source": [
    "#melihat korelasi\n",
    "import seaborn as sns"
   ]
  },
  {
   "cell_type": "code",
   "execution_count": 30,
   "metadata": {},
   "outputs": [
    {
     "data": {
      "text/plain": [
       "<AxesSubplot:xlabel='Produksi', ylabel='Luas_Panen2'>"
      ]
     },
     "execution_count": 30,
     "metadata": {},
     "output_type": "execute_result"
    },
    {
     "data": {
      "image/png": "[encoded data removed]",
      "text/plain": [
       "<Figure size 432x288 with 1 Axes>"
      ]
     },
     "metadata": {
      "needs_background": "light"
     },
     "output_type": "display_data"
    }
   ],
   "source": [
    "sns.regplot(x=\"Produksi\", y=\"Luas_Panen2\", data=df)"
   ]
  },
  {
   "cell_type": "code",
   "execution_count": null,
   "metadata": {},
   "outputs": [],
   "source": [
    "#dapat dilihat dengan menggunakan metode regresi, variabel Luas Panen dan Produksi memiliki korelasi"
   ]
  },
  {
   "attachments": {},
   "cell_type": "markdown",
   "metadata": {},
   "source": [
    "<p>Provinsi mana yang memiliki produksi tertinggi</p>"
   ]
  },
  {
   "cell_type": "code",
   "execution_count": 52,
   "metadata": {},
   "outputs": [
    {
     "name": "stdout",
     "output_type": "stream",
     "text": [
      "Provinsi yang produksinya tertinggi: Provinsi\n",
      "Aceh                2478922.0\n",
      "Sumatera Utara      4669777.5\n",
      "Sumatera Barat      2810425.0\n",
      "Riau                 574864.0\n",
      "Jambi                678127.0\n",
      "Sumatera Selatan    4881089.0\n",
      "Bengkulu             714017.0\n",
      "Lampung             4090654.0\n",
      "Name: Produksi, dtype: float64\n"
     ]
    }
   ],
   "source": [
    "print('Provinsi yang produksinya tertinggi:',df.groupby(['Provinsi'], sort=False)['Produksi'].max())"
   ]
  },
  {
   "attachments": {},
   "cell_type": "markdown",
   "metadata": {},
   "source": [
    "<p>Provinsi yang produksinya terendah</p>"
   ]
  },
  {
   "cell_type": "code",
   "execution_count": 49,
   "metadata": {},
   "outputs": [
    {
     "name": "stdout",
     "output_type": "stream",
     "text": [
      "Provinsi yang produksinya terendah: Provinsi\n",
      "Aceh                1246614.00\n",
      "Sumatera Utara      2076280.01\n",
      "Sumatera Barat      1450839.74\n",
      "Riau                  42938.00\n",
      "Jambi                 58663.00\n",
      "Sumatera Selatan    1347611.00\n",
      "Bengkulu             288810.52\n",
      "Lampung             1615751.00\n",
      "Name: Produksi, dtype: float64\n"
     ]
    }
   ],
   "source": [
    "print('Provinsi yang produksinya terendah:',df.groupby(['Provinsi'], sort=False)['Produksi'].min())"
   ]
  },
  {
   "attachments": {},
   "cell_type": "markdown",
   "metadata": {},
   "source": [
    "<p>Provinsi dengan Luas Panen tertinggi</p>"
   ]
  },
  {
   "cell_type": "code",
   "execution_count": 54,
   "metadata": {},
   "outputs": [
    {
     "name": "stdout",
     "output_type": "stream",
     "text": [
      "Provinsi yang produksinya terendah: Provinsi\n",
      "Aceh                461060.0\n",
      "Sumatera Utara      847610.0\n",
      "Sumatera Barat      507545.0\n",
      "Riau                156088.0\n",
      "Jambi               215975.0\n",
      "Sumatera Selatan    872737.0\n",
      "Bengkulu            147680.0\n",
      "Lampung             707266.0\n",
      "Name: Luas_Panen, dtype: float64\n"
     ]
    }
   ],
   "source": [
    "print('Provinsi yang produksinya terendah:',df.groupby(['Provinsi'], sort=False)['Luas_Panen'].max())"
   ]
  },
  {
   "cell_type": "code",
   "execution_count": 86,
   "metadata": {},
   "outputs": [
    {
     "name": "stdout",
     "output_type": "stream",
     "text": [
      "Provinsi yang produksinya terendah: Provinsi\n",
      "Aceh                293067.00\n",
      "Sumatera Utara      388591.22\n",
      "Sumatera Barat      222021.00\n",
      "Riau                 63142.04\n",
      "Jambi                69536.06\n",
      "Sumatera Selatan    422109.00\n",
      "Bengkulu             64137.28\n",
      "Lampung             390799.00\n",
      "Name: Luas_Panen, dtype: float64\n"
     ]
    }
   ],
   "source": [
    "print('Provinsi yang produksinya terendah:',df.groupby(['Provinsi'], sort=False)['Luas_Panen'].min())"
   ]
  },
  {
   "attachments": {},
   "cell_type": "markdown",
   "metadata": {},
   "source": [
    "<p>Visualisasi</p>"
   ]
  },
  {
   "cell_type": "code",
   "execution_count": 111,
   "metadata": {},
   "outputs": [
    {
     "data": {
      "text/plain": [
       "<seaborn.axisgrid.FacetGrid at 0x2433bdc79d0>"
      ]
     },
     "execution_count": 111,
     "metadata": {},
     "output_type": "execute_result"
    },
    {
     "data": {
      "text/plain": [
       "<Figure size 432x288 with 0 Axes>"
      ]
     },
     "metadata": {},
     "output_type": "display_data"
    },
    {
     "data": {
      "image/png": "[encoded data removed]",
      "text/plain": [
       "<Figure size 720x360 with 1 Axes>"
      ]
     },
     "metadata": {
      "needs_background": "light"
     },
     "output_type": "display_data"
    }
   ],
   "source": [
    "plt.figure()\n",
    "sns.catplot(data=df, x='Provinsi', y='Produksi', kind=\"bar\", aspect=2)"
   ]
  },
  {
   "cell_type": "code",
   "execution_count": null,
   "metadata": {},
   "outputs": [],
   "source": [
    "plt.figure(figsize=(15,10))\n",
    "sns.catplot(data=df, x='Provinsi', y='Produksi', kind=\"bar\", size=10)"
   ]
  },
  {
   "attachments": {},
   "cell_type": "markdown",
   "metadata": {},
   "source": [
    "<p> Produksi Padi di Pulau Sumatera</p>"
   ]
  },
  {
   "cell_type": "code",
   "execution_count": 87,
   "metadata": {},
   "outputs": [],
   "source": [
    "import seaborn as sns"
   ]
  },
  {
   "cell_type": "code",
   "execution_count": 83,
   "metadata": {},
   "outputs": [
    {
     "data": {
      "image/png": "[encoded data removed]",
      "text/plain": [
       "<Figure size 720x360 with 1 Axes>"
      ]
     },
     "metadata": {
      "needs_background": "light"
     },
     "output_type": "display_data"
    }
   ],
   "source": [
    "sns.relplot(data=df, x='Tahun', y='Produksi', kind='line', aspect=2 )\n",
    "plt.show()"
   ]
  },
  {
   "cell_type": "code",
   "execution_count": 84,
   "metadata": {},
   "outputs": [
    {
     "data": {
      "image/png": "[encoded data removed]",
      "text/plain": [
       "<Figure size 1800x720 with 1 Axes>"
      ]
     },
     "metadata": {
      "needs_background": "light"
     },
     "output_type": "display_data"
    }
   ],
   "source": [
    "plt.figure(figsize=(25,10))\n",
    "sns.barplot(data=df, x='Tahun', y='Produksi')\n",
    "plt.show()"
   ]
  }
 ],
 "metadata": {
  "kernelspec": {
   "display_name": "base",
   "language": "python",
   "name": "python3"
  },
  "language_info": {
   "codemirror_mode": {
    "name": "ipython",
    "version": 3
   },
   "file_extension": ".py",
   "mimetype": "text/x-python",
   "name": "python",
   "nbconvert_exporter": "python",
   "pygments_lexer": "ipython3",
   "version": "3.8.5"
  },
  "orig_nbformat": 4,
  "vscode": {
   "interpreter": {
    "hash": "e1214828529efe0c1ccdf5bade641e9255c8d5a399b40947fe6c10922079569d"
   }
  }
 },
 "nbformat": 4,
 "nbformat_minor": 2
}
